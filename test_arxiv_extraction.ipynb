{
 "cells": [
  {
   "cell_type": "code",
   "execution_count": 1,
   "id": "initial_id",
   "metadata": {
    "collapsed": true,
    "ExecuteTime": {
     "end_time": "2024-08-17T22:28:22.711540Z",
     "start_time": "2024-08-17T22:28:00.354977Z"
    }
   },
   "outputs": [
    {
     "ename": "PDFSyntaxError",
     "evalue": "No /Root object! - Is this really a PDF?",
     "output_type": "error",
     "traceback": [
      "\u001B[0;31m---------------------------------------------------------------------------\u001B[0m",
      "\u001B[0;31mPDFSyntaxError\u001B[0m                            Traceback (most recent call last)",
      "Cell \u001B[0;32mIn[1], line 5\u001B[0m\n\u001B[1;32m      1\u001B[0m \u001B[38;5;28;01mfrom\u001B[39;00m \u001B[38;5;21;01marxiv2text\u001B[39;00m \u001B[38;5;28;01mimport\u001B[39;00m arxiv_to_text\n\u001B[1;32m      3\u001B[0m pdf_url \u001B[38;5;241m=\u001B[39m \u001B[38;5;124m\"\u001B[39m\u001B[38;5;124mhttps://arxiv.org/abs/2101.11796\u001B[39m\u001B[38;5;124m\"\u001B[39m\n\u001B[0;32m----> 5\u001B[0m extracted_text \u001B[38;5;241m=\u001B[39m \u001B[43marxiv_to_text\u001B[49m\u001B[43m(\u001B[49m\u001B[43mpdf_url\u001B[49m\u001B[43m,\u001B[49m\u001B[43m \u001B[49m\u001B[38;5;124;43m\"\u001B[39;49m\u001B[38;5;124;43m./data\u001B[39;49m\u001B[38;5;124;43m\"\u001B[39;49m\u001B[43m)\u001B[49m \u001B[38;5;66;03m# output_dir is optional argument\u001B[39;00m\n",
      "File \u001B[0;32m~/Library/Caches/pypoetry/virtualenvs/research-agent-40Q9m_Gr-py3.12/lib/python3.12/site-packages/arxiv2text/convert/to_text.py:33\u001B[0m, in \u001B[0;36marxiv_to_text\u001B[0;34m(pdf_url, output_folder)\u001B[0m\n\u001B[1;32m     31\u001B[0m device \u001B[38;5;241m=\u001B[39m TextConverter(resource_manager, text_stream, laparams\u001B[38;5;241m=\u001B[39mlaparams)\n\u001B[1;32m     32\u001B[0m interpreter \u001B[38;5;241m=\u001B[39m PDFPageInterpreter(resource_manager, device)\n\u001B[0;32m---> 33\u001B[0m \u001B[43m\u001B[49m\u001B[38;5;28;43;01mfor\u001B[39;49;00m\u001B[43m \u001B[49m\u001B[43mpage\u001B[49m\u001B[43m \u001B[49m\u001B[38;5;129;43;01min\u001B[39;49;00m\u001B[43m \u001B[49m\u001B[43mPDFPage\u001B[49m\u001B[38;5;241;43m.\u001B[39;49m\u001B[43mget_pages\u001B[49m\u001B[43m(\u001B[49m\u001B[43mpdf_file\u001B[49m\u001B[43m)\u001B[49m\u001B[43m:\u001B[49m\n\u001B[1;32m     34\u001B[0m \u001B[43m    \u001B[49m\u001B[43minterpreter\u001B[49m\u001B[38;5;241;43m.\u001B[39;49m\u001B[43mprocess_page\u001B[49m\u001B[43m(\u001B[49m\u001B[43mpage\u001B[49m\u001B[43m)\u001B[49m\n\u001B[1;32m     36\u001B[0m extracted_text \u001B[38;5;241m=\u001B[39m text_stream\u001B[38;5;241m.\u001B[39mgetvalue()\n",
      "File \u001B[0;32m~/Library/Caches/pypoetry/virtualenvs/research-agent-40Q9m_Gr-py3.12/lib/python3.12/site-packages/pdfminer/pdfpage.py:154\u001B[0m, in \u001B[0;36mPDFPage.get_pages\u001B[0;34m(cls, fp, pagenos, maxpages, password, caching, check_extractable)\u001B[0m\n\u001B[1;32m    152\u001B[0m parser \u001B[38;5;241m=\u001B[39m PDFParser(fp)\n\u001B[1;32m    153\u001B[0m \u001B[38;5;66;03m# Create a PDF document object that stores the document structure.\u001B[39;00m\n\u001B[0;32m--> 154\u001B[0m doc \u001B[38;5;241m=\u001B[39m \u001B[43mPDFDocument\u001B[49m\u001B[43m(\u001B[49m\u001B[43mparser\u001B[49m\u001B[43m,\u001B[49m\u001B[43m \u001B[49m\u001B[43mpassword\u001B[49m\u001B[38;5;241;43m=\u001B[39;49m\u001B[43mpassword\u001B[49m\u001B[43m,\u001B[49m\u001B[43m \u001B[49m\u001B[43mcaching\u001B[49m\u001B[38;5;241;43m=\u001B[39;49m\u001B[43mcaching\u001B[49m\u001B[43m)\u001B[49m\n\u001B[1;32m    155\u001B[0m \u001B[38;5;66;03m# Check if the document allows text extraction.\u001B[39;00m\n\u001B[1;32m    156\u001B[0m \u001B[38;5;66;03m# If not, warn the user and proceed.\u001B[39;00m\n\u001B[1;32m    157\u001B[0m \u001B[38;5;28;01mif\u001B[39;00m \u001B[38;5;129;01mnot\u001B[39;00m doc\u001B[38;5;241m.\u001B[39mis_extractable:\n",
      "File \u001B[0;32m~/Library/Caches/pypoetry/virtualenvs/research-agent-40Q9m_Gr-py3.12/lib/python3.12/site-packages/pdfminer/pdfdocument.py:748\u001B[0m, in \u001B[0;36mPDFDocument.__init__\u001B[0;34m(self, parser, password, caching, fallback)\u001B[0m\n\u001B[1;32m    746\u001B[0m         \u001B[38;5;28;01mbreak\u001B[39;00m\n\u001B[1;32m    747\u001B[0m \u001B[38;5;28;01melse\u001B[39;00m:\n\u001B[0;32m--> 748\u001B[0m     \u001B[38;5;28;01mraise\u001B[39;00m PDFSyntaxError(\u001B[38;5;124m\"\u001B[39m\u001B[38;5;124mNo /Root object! - Is this really a PDF?\u001B[39m\u001B[38;5;124m\"\u001B[39m)\n\u001B[1;32m    749\u001B[0m \u001B[38;5;28;01mif\u001B[39;00m \u001B[38;5;28mself\u001B[39m\u001B[38;5;241m.\u001B[39mcatalog\u001B[38;5;241m.\u001B[39mget(\u001B[38;5;124m\"\u001B[39m\u001B[38;5;124mType\u001B[39m\u001B[38;5;124m\"\u001B[39m) \u001B[38;5;129;01mis\u001B[39;00m \u001B[38;5;129;01mnot\u001B[39;00m LITERAL_CATALOG:\n\u001B[1;32m    750\u001B[0m     \u001B[38;5;28;01mif\u001B[39;00m settings\u001B[38;5;241m.\u001B[39mSTRICT:\n",
      "\u001B[0;31mPDFSyntaxError\u001B[0m: No /Root object! - Is this really a PDF?"
     ]
    }
   ],
   "source": [
    "from arxiv2text import arxiv_to_text\n",
    "\n",
    "pdf_url = \"https://arxiv.org/abs/2101.11796\"\n",
    "\n",
    "extracted_text = arxiv_to_text(pdf_url, \"./data\") # output_dir is optional argument\n"
   ]
  },
  {
   "cell_type": "code",
   "outputs": [],
   "source": [],
   "metadata": {
    "collapsed": false
   },
   "id": "fdfbbe95e036a72b"
  }
 ],
 "metadata": {
  "kernelspec": {
   "display_name": "Python 3",
   "language": "python",
   "name": "python3"
  },
  "language_info": {
   "codemirror_mode": {
    "name": "ipython",
    "version": 2
   },
   "file_extension": ".py",
   "mimetype": "text/x-python",
   "name": "python",
   "nbconvert_exporter": "python",
   "pygments_lexer": "ipython2",
   "version": "2.7.6"
  }
 },
 "nbformat": 4,
 "nbformat_minor": 5
}
