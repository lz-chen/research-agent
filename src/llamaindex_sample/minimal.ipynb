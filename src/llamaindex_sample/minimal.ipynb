{
 "cells": [
  {
   "cell_type": "markdown",
   "id": "aa0d05b4d03c0cc1",
   "metadata": {
    "collapsed": false
   },
   "source": []
  },
  {
   "cell_type": "code",
   "execution_count": 2,
   "id": "3ba0a238b8aa6c17",
   "metadata": {
    "ExecuteTime": {
     "end_time": "2024-05-27T09:17:41.364212Z",
     "start_time": "2024-05-27T09:17:39.335675Z"
    },
    "collapsed": false
   },
   "outputs": [],
   "source": [
    "from llama_index.core.query_pipeline import (\n",
    "    QueryPipeline as QP,\n",
    "    Link,\n",
    "    InputComponent,\n",
    ")\n",
    "from llama_index.llms.ollama import Ollama\n",
    "\n",
    "from llama_index.experimental.query_engine.pandas import (\n",
    "    PandasInstructionParser,\n",
    ")\n",
    "from llama_index.core import PromptTemplate\n"
   ]
  },
  {
   "cell_type": "code",
   "execution_count": 3,
   "id": "8ebc7d7168dd4b40",
   "metadata": {
    "ExecuteTime": {
     "end_time": "2024-05-27T09:18:53.974564Z",
     "start_time": "2024-05-27T09:18:53.951556Z"
    },
    "collapsed": false
   },
   "outputs": [],
   "source": [
    "import pandas as pd\n",
    "df = pd.read_csv(\"../../data/titanic_train.csv\")"
   ]
  },
  {
   "cell_type": "code",
   "outputs": [
    {
     "data": {
      "text/plain": "   survived  pclass                                               name  \\\n0         0       3                            Braund, Mr. Owen Harris   \n1         1       1  Cumings, Mrs. John Bradley (Florence Briggs Th...   \n2         1       3                             Heikkinen, Miss. Laina   \n3         1       1       Futrelle, Mrs. Jacques Heath (Lily May Peel)   \n4         0       3                           Allen, Mr. William Henry   \n\n      sex   age  sibsp  parch            ticket     fare cabin embarked  \n0    male  22.0      1      0         A/5 21171   7.2500   NaN        S  \n1  female  38.0      1      0          PC 17599  71.2833   C85        C  \n2  female  26.0      0      0  STON/O2. 3101282   7.9250   NaN        S  \n3  female  35.0      1      0            113803  53.1000  C123        S  \n4    male  35.0      0      0            373450   8.0500   NaN        S  ",
      "text/html": "<div>\n<style scoped>\n    .dataframe tbody tr th:only-of-type {\n        vertical-align: middle;\n    }\n\n    .dataframe tbody tr th {\n        vertical-align: top;\n    }\n\n    .dataframe thead th {\n        text-align: right;\n    }\n</style>\n<table border=\"1\" class=\"dataframe\">\n  <thead>\n    <tr style=\"text-align: right;\">\n      <th></th>\n      <th>survived</th>\n      <th>pclass</th>\n      <th>name</th>\n      <th>sex</th>\n      <th>age</th>\n      <th>sibsp</th>\n      <th>parch</th>\n      <th>ticket</th>\n      <th>fare</th>\n      <th>cabin</th>\n      <th>embarked</th>\n    </tr>\n  </thead>\n  <tbody>\n    <tr>\n      <th>0</th>\n      <td>0</td>\n      <td>3</td>\n      <td>Braund, Mr. Owen Harris</td>\n      <td>male</td>\n      <td>22.0</td>\n      <td>1</td>\n      <td>0</td>\n      <td>A/5 21171</td>\n      <td>7.2500</td>\n      <td>NaN</td>\n      <td>S</td>\n    </tr>\n    <tr>\n      <th>1</th>\n      <td>1</td>\n      <td>1</td>\n      <td>Cumings, Mrs. John Bradley (Florence Briggs Th...</td>\n      <td>female</td>\n      <td>38.0</td>\n      <td>1</td>\n      <td>0</td>\n      <td>PC 17599</td>\n      <td>71.2833</td>\n      <td>C85</td>\n      <td>C</td>\n    </tr>\n    <tr>\n      <th>2</th>\n      <td>1</td>\n      <td>3</td>\n      <td>Heikkinen, Miss. Laina</td>\n      <td>female</td>\n      <td>26.0</td>\n      <td>0</td>\n      <td>0</td>\n      <td>STON/O2. 3101282</td>\n      <td>7.9250</td>\n      <td>NaN</td>\n      <td>S</td>\n    </tr>\n    <tr>\n      <th>3</th>\n      <td>1</td>\n      <td>1</td>\n      <td>Futrelle, Mrs. Jacques Heath (Lily May Peel)</td>\n      <td>female</td>\n      <td>35.0</td>\n      <td>1</td>\n      <td>0</td>\n      <td>113803</td>\n      <td>53.1000</td>\n      <td>C123</td>\n      <td>S</td>\n    </tr>\n    <tr>\n      <th>4</th>\n      <td>0</td>\n      <td>3</td>\n      <td>Allen, Mr. William Henry</td>\n      <td>male</td>\n      <td>35.0</td>\n      <td>0</td>\n      <td>0</td>\n      <td>373450</td>\n      <td>8.0500</td>\n      <td>NaN</td>\n      <td>S</td>\n    </tr>\n  </tbody>\n</table>\n</div>"
     },
     "execution_count": 13,
     "metadata": {},
     "output_type": "execute_result"
    }
   ],
   "source": [
    "df.head()"
   ],
   "metadata": {
    "collapsed": false,
    "ExecuteTime": {
     "end_time": "2024-05-27T09:55:25.503772Z",
     "start_time": "2024-05-27T09:55:25.477697Z"
    }
   },
   "id": "6b367640bc947ccc",
   "execution_count": 13
  },
  {
   "cell_type": "code",
   "outputs": [
    {
     "ename": "ValueError",
     "evalue": "could not convert string to float: 'Braund, Mr. Owen Harris'",
     "output_type": "error",
     "traceback": [
      "\u001B[0;31m---------------------------------------------------------------------------\u001B[0m",
      "\u001B[0;31mValueError\u001B[0m                                Traceback (most recent call last)",
      "Cell \u001B[0;32mIn[19], line 1\u001B[0m\n\u001B[0;32m----> 1\u001B[0m \u001B[43mdf\u001B[49m\u001B[38;5;241;43m.\u001B[39;49m\u001B[43mcorr\u001B[49m\u001B[43m(\u001B[49m\u001B[38;5;124;43m'\u001B[39;49m\u001B[38;5;124;43mspearman\u001B[39;49m\u001B[38;5;124;43m'\u001B[39;49m\u001B[43m)\u001B[49m[\u001B[38;5;124m'\u001B[39m\u001B[38;5;124msurvived\u001B[39m\u001B[38;5;124m'\u001B[39m][\u001B[38;5;124m'\u001B[39m\u001B[38;5;124mage\u001B[39m\u001B[38;5;124m'\u001B[39m]\n",
      "File \u001B[0;32m~/Library/Caches/pypoetry/virtualenvs/llamaindex-sample-BTxt78Z_-py3.10/lib/python3.10/site-packages/pandas/core/frame.py:11049\u001B[0m, in \u001B[0;36mDataFrame.corr\u001B[0;34m(self, method, min_periods, numeric_only)\u001B[0m\n\u001B[1;32m  11047\u001B[0m cols \u001B[38;5;241m=\u001B[39m data\u001B[38;5;241m.\u001B[39mcolumns\n\u001B[1;32m  11048\u001B[0m idx \u001B[38;5;241m=\u001B[39m cols\u001B[38;5;241m.\u001B[39mcopy()\n\u001B[0;32m> 11049\u001B[0m mat \u001B[38;5;241m=\u001B[39m \u001B[43mdata\u001B[49m\u001B[38;5;241;43m.\u001B[39;49m\u001B[43mto_numpy\u001B[49m\u001B[43m(\u001B[49m\u001B[43mdtype\u001B[49m\u001B[38;5;241;43m=\u001B[39;49m\u001B[38;5;28;43mfloat\u001B[39;49m\u001B[43m,\u001B[49m\u001B[43m \u001B[49m\u001B[43mna_value\u001B[49m\u001B[38;5;241;43m=\u001B[39;49m\u001B[43mnp\u001B[49m\u001B[38;5;241;43m.\u001B[39;49m\u001B[43mnan\u001B[49m\u001B[43m,\u001B[49m\u001B[43m \u001B[49m\u001B[43mcopy\u001B[49m\u001B[38;5;241;43m=\u001B[39;49m\u001B[38;5;28;43;01mFalse\u001B[39;49;00m\u001B[43m)\u001B[49m\n\u001B[1;32m  11051\u001B[0m \u001B[38;5;28;01mif\u001B[39;00m method \u001B[38;5;241m==\u001B[39m \u001B[38;5;124m\"\u001B[39m\u001B[38;5;124mpearson\u001B[39m\u001B[38;5;124m\"\u001B[39m:\n\u001B[1;32m  11052\u001B[0m     correl \u001B[38;5;241m=\u001B[39m libalgos\u001B[38;5;241m.\u001B[39mnancorr(mat, minp\u001B[38;5;241m=\u001B[39mmin_periods)\n",
      "File \u001B[0;32m~/Library/Caches/pypoetry/virtualenvs/llamaindex-sample-BTxt78Z_-py3.10/lib/python3.10/site-packages/pandas/core/frame.py:1993\u001B[0m, in \u001B[0;36mDataFrame.to_numpy\u001B[0;34m(self, dtype, copy, na_value)\u001B[0m\n\u001B[1;32m   1991\u001B[0m \u001B[38;5;28;01mif\u001B[39;00m dtype \u001B[38;5;129;01mis\u001B[39;00m \u001B[38;5;129;01mnot\u001B[39;00m \u001B[38;5;28;01mNone\u001B[39;00m:\n\u001B[1;32m   1992\u001B[0m     dtype \u001B[38;5;241m=\u001B[39m np\u001B[38;5;241m.\u001B[39mdtype(dtype)\n\u001B[0;32m-> 1993\u001B[0m result \u001B[38;5;241m=\u001B[39m \u001B[38;5;28;43mself\u001B[39;49m\u001B[38;5;241;43m.\u001B[39;49m\u001B[43m_mgr\u001B[49m\u001B[38;5;241;43m.\u001B[39;49m\u001B[43mas_array\u001B[49m\u001B[43m(\u001B[49m\u001B[43mdtype\u001B[49m\u001B[38;5;241;43m=\u001B[39;49m\u001B[43mdtype\u001B[49m\u001B[43m,\u001B[49m\u001B[43m \u001B[49m\u001B[43mcopy\u001B[49m\u001B[38;5;241;43m=\u001B[39;49m\u001B[43mcopy\u001B[49m\u001B[43m,\u001B[49m\u001B[43m \u001B[49m\u001B[43mna_value\u001B[49m\u001B[38;5;241;43m=\u001B[39;49m\u001B[43mna_value\u001B[49m\u001B[43m)\u001B[49m\n\u001B[1;32m   1994\u001B[0m \u001B[38;5;28;01mif\u001B[39;00m result\u001B[38;5;241m.\u001B[39mdtype \u001B[38;5;129;01mis\u001B[39;00m \u001B[38;5;129;01mnot\u001B[39;00m dtype:\n\u001B[1;32m   1995\u001B[0m     result \u001B[38;5;241m=\u001B[39m np\u001B[38;5;241m.\u001B[39masarray(result, dtype\u001B[38;5;241m=\u001B[39mdtype)\n",
      "File \u001B[0;32m~/Library/Caches/pypoetry/virtualenvs/llamaindex-sample-BTxt78Z_-py3.10/lib/python3.10/site-packages/pandas/core/internals/managers.py:1694\u001B[0m, in \u001B[0;36mBlockManager.as_array\u001B[0;34m(self, dtype, copy, na_value)\u001B[0m\n\u001B[1;32m   1692\u001B[0m         arr\u001B[38;5;241m.\u001B[39mflags\u001B[38;5;241m.\u001B[39mwriteable \u001B[38;5;241m=\u001B[39m \u001B[38;5;28;01mFalse\u001B[39;00m\n\u001B[1;32m   1693\u001B[0m \u001B[38;5;28;01melse\u001B[39;00m:\n\u001B[0;32m-> 1694\u001B[0m     arr \u001B[38;5;241m=\u001B[39m \u001B[38;5;28;43mself\u001B[39;49m\u001B[38;5;241;43m.\u001B[39;49m\u001B[43m_interleave\u001B[49m\u001B[43m(\u001B[49m\u001B[43mdtype\u001B[49m\u001B[38;5;241;43m=\u001B[39;49m\u001B[43mdtype\u001B[49m\u001B[43m,\u001B[49m\u001B[43m \u001B[49m\u001B[43mna_value\u001B[49m\u001B[38;5;241;43m=\u001B[39;49m\u001B[43mna_value\u001B[49m\u001B[43m)\u001B[49m\n\u001B[1;32m   1695\u001B[0m     \u001B[38;5;66;03m# The underlying data was copied within _interleave, so no need\u001B[39;00m\n\u001B[1;32m   1696\u001B[0m     \u001B[38;5;66;03m# to further copy if copy=True or setting na_value\u001B[39;00m\n\u001B[1;32m   1698\u001B[0m \u001B[38;5;28;01mif\u001B[39;00m na_value \u001B[38;5;129;01mis\u001B[39;00m lib\u001B[38;5;241m.\u001B[39mno_default:\n",
      "File \u001B[0;32m~/Library/Caches/pypoetry/virtualenvs/llamaindex-sample-BTxt78Z_-py3.10/lib/python3.10/site-packages/pandas/core/internals/managers.py:1753\u001B[0m, in \u001B[0;36mBlockManager._interleave\u001B[0;34m(self, dtype, na_value)\u001B[0m\n\u001B[1;32m   1751\u001B[0m     \u001B[38;5;28;01melse\u001B[39;00m:\n\u001B[1;32m   1752\u001B[0m         arr \u001B[38;5;241m=\u001B[39m blk\u001B[38;5;241m.\u001B[39mget_values(dtype)\n\u001B[0;32m-> 1753\u001B[0m     \u001B[43mresult\u001B[49m\u001B[43m[\u001B[49m\u001B[43mrl\u001B[49m\u001B[38;5;241;43m.\u001B[39;49m\u001B[43mindexer\u001B[49m\u001B[43m]\u001B[49m \u001B[38;5;241m=\u001B[39m arr\n\u001B[1;32m   1754\u001B[0m     itemmask[rl\u001B[38;5;241m.\u001B[39mindexer] \u001B[38;5;241m=\u001B[39m \u001B[38;5;241m1\u001B[39m\n\u001B[1;32m   1756\u001B[0m \u001B[38;5;28;01mif\u001B[39;00m \u001B[38;5;129;01mnot\u001B[39;00m itemmask\u001B[38;5;241m.\u001B[39mall():\n",
      "\u001B[0;31mValueError\u001B[0m: could not convert string to float: 'Braund, Mr. Owen Harris'"
     ]
    }
   ],
   "source": [
    "df.corr('spearman')['survived']['age']\n"
   ],
   "metadata": {
    "collapsed": false,
    "ExecuteTime": {
     "end_time": "2024-05-27T10:05:05.894436Z",
     "start_time": "2024-05-27T10:05:05.853432Z"
    }
   },
   "id": "4fbe65b875ab5c2e",
   "execution_count": 19
  },
  {
   "cell_type": "code",
   "outputs": [
    {
     "data": {
      "text/plain": "-0.052565300044694487"
     },
     "execution_count": 17,
     "metadata": {},
     "output_type": "execute_result"
    }
   ],
   "source": [
    "df[[\"survived\", \"age\"]].corr('spearman')['survived']['age']"
   ],
   "metadata": {
    "collapsed": false,
    "ExecuteTime": {
     "end_time": "2024-05-27T10:03:11.145271Z",
     "start_time": "2024-05-27T10:03:11.131287Z"
    }
   },
   "id": "af172091dbce518b",
   "execution_count": 17
  },
  {
   "cell_type": "code",
   "outputs": [
    {
     "data": {
      "text/plain": "          survived       age\nsurvived  1.000000 -0.077221\nage      -0.077221  1.000000",
      "text/html": "<div>\n<style scoped>\n    .dataframe tbody tr th:only-of-type {\n        vertical-align: middle;\n    }\n\n    .dataframe tbody tr th {\n        vertical-align: top;\n    }\n\n    .dataframe thead th {\n        text-align: right;\n    }\n</style>\n<table border=\"1\" class=\"dataframe\">\n  <thead>\n    <tr style=\"text-align: right;\">\n      <th></th>\n      <th>survived</th>\n      <th>age</th>\n    </tr>\n  </thead>\n  <tbody>\n    <tr>\n      <th>survived</th>\n      <td>1.000000</td>\n      <td>-0.077221</td>\n    </tr>\n    <tr>\n      <th>age</th>\n      <td>-0.077221</td>\n      <td>1.000000</td>\n    </tr>\n  </tbody>\n</table>\n</div>"
     },
     "execution_count": 18,
     "metadata": {},
     "output_type": "execute_result"
    }
   ],
   "source": [
    "df[[\"survived\", \"age\"]].corr()"
   ],
   "metadata": {
    "collapsed": false,
    "ExecuteTime": {
     "end_time": "2024-05-27T10:03:46.518215Z",
     "start_time": "2024-05-27T10:03:46.511171Z"
    }
   },
   "id": "28bd372d638a958d",
   "execution_count": 18
  },
  {
   "cell_type": "code",
   "outputs": [
    {
     "data": {
      "text/plain": "0      0\n1      1\n2      1\n3      1\n4      0\n      ..\n886    0\n887    1\n888    0\n889    1\n890    0\nName: survived, Length: 891, dtype: int64"
     },
     "execution_count": 16,
     "metadata": {},
     "output_type": "execute_result"
    }
   ],
   "source": [
    "df['survived']\n"
   ],
   "metadata": {
    "collapsed": false,
    "ExecuteTime": {
     "end_time": "2024-05-27T09:56:15.835949Z",
     "start_time": "2024-05-27T09:56:15.832706Z"
    }
   },
   "id": "c0732b72e3c7e77b",
   "execution_count": 16
  },
  {
   "cell_type": "code",
   "execution_count": 4,
   "id": "a6c5957e8420c3d",
   "metadata": {
    "collapsed": false
   },
   "outputs": [
    {
     "ename": "SyntaxError",
     "evalue": "multiple exception types must be parenthesized (__init__.py, line 56)",
     "output_type": "error",
     "traceback": [
      "Traceback \u001B[0;36m(most recent call last)\u001B[0m:\n",
      "\u001B[0m  File \u001B[1;32m~/Library/Caches/pypoetry/virtualenvs/llamaindex-sample-BTxt78Z_-py3.10/lib/python3.10/site-packages/IPython/core/interactiveshell.py:3577\u001B[0m in \u001B[1;35mrun_code\u001B[0m\n    exec(code_obj, self.user_global_ns, self.user_ns)\u001B[0m\n",
      "\u001B[0;36m  Cell \u001B[0;32mIn[4], line 2\u001B[0;36m\n\u001B[0;31m    import phoenix as px\u001B[0;36m\n",
      "\u001B[0;36m  File \u001B[0;32m~/Library/Caches/pypoetry/virtualenvs/llamaindex-sample-BTxt78Z_-py3.10/lib/python3.10/site-packages/phoenix/__init__.py:56\u001B[0;36m\u001B[0m\n\u001B[0;31m    except PhoenixError, e:\u001B[0m\n\u001B[0m           ^\u001B[0m\n\u001B[0;31mSyntaxError\u001B[0m\u001B[0;31m:\u001B[0m multiple exception types must be parenthesized\n"
     ]
    }
   ],
   "source": [
    "# setup Arize Phoenix for logging/observability\n",
    "import phoenix as px\n",
    "\n",
    "px.launch_app()\n",
    "import llama_index.core\n",
    "\n",
    "llama_index.core.set_global_handler(\"arize_phoenix\")"
   ]
  },
  {
   "cell_type": "code",
   "execution_count": null,
   "id": "5c5c6ccd4238e8d6",
   "metadata": {
    "ExecuteTime": {
     "end_time": "2024-05-27T09:18:57.220417Z",
     "start_time": "2024-05-27T09:18:57.216106Z"
    },
    "collapsed": false
   },
   "outputs": [],
   "source": [
    "\n",
    "instruction_str = (\n",
    "    \"1. Convert the query to executable Python code using Pandas.\\n\"\n",
    "    \"2. The final line of code should be a Python expression that can be called with the `eval()` function.\\n\"\n",
    "    \"3. The code should represent a solution to the query.\\n\"\n",
    "    \"4. PRINT ONLY THE EXPRESSION.\\n\"\n",
    "    \"5. Do not quote the expression.\\n\"\n",
    ")\n",
    "\n",
    "pandas_prompt_str = (\n",
    "    \"You are working with a pandas dataframe in Python.\\n\"\n",
    "    \"The name of the dataframe is `df`.\\n\"\n",
    "    \"This is the result of `print(df.head())`:\\n\"\n",
    "    \"{df_str}\\n\\n\"\n",
    "    \"Follow these instructions:\\n\"\n",
    "    \"{instruction_str}\\n\"\n",
    "    \"Query: {query_str}\\n\\n\"\n",
    "    \"Expression:\"\n",
    ")\n",
    "response_synthesis_prompt_str = (\n",
    "    \"Given an input question, synthesize a response from the query results.\\n\"\n",
    "    \"Query: {query_str}\\n\\n\"\n",
    "    \"Pandas Instructions (optional):\\n{pandas_instructions}\\n\\n\"\n",
    "    \"Pandas Output: {pandas_output}\\n\\n\"\n",
    "    \"Response: \"\n",
    ")\n"
   ]
  },
  {
   "cell_type": "code",
   "execution_count": null,
   "id": "a374b6cd6bfb42d3",
   "metadata": {
    "ExecuteTime": {
     "end_time": "2024-05-27T09:33:30.664576Z",
     "start_time": "2024-05-27T09:33:30.655865Z"
    },
    "collapsed": false
   },
   "outputs": [],
   "source": [
    "\n",
    "pandas_prompt = PromptTemplate(pandas_prompt_str).partial_format(\n",
    "    instruction_str=instruction_str, df_str=df.head(5)\n",
    ")\n",
    "pandas_output_parser = PandasInstructionParser(df)\n",
    "response_synthesis_prompt = PromptTemplate(response_synthesis_prompt_str)\n",
    "llm = Ollama(model=\"llama3\", request_timeout=120.0)\n"
   ]
  },
  {
   "cell_type": "code",
   "execution_count": null,
   "id": "94548078d130dd3f",
   "metadata": {
    "ExecuteTime": {
     "end_time": "2024-05-27T09:34:00.119461Z",
     "start_time": "2024-05-27T09:34:00.113568Z"
    },
    "collapsed": false
   },
   "outputs": [],
   "source": [
    "qp = QP(\n",
    "    modules={\n",
    "        \"input\": InputComponent(),\n",
    "        \"pandas_prompt\": pandas_prompt,\n",
    "        \"llm1\": llm,\n",
    "        \"pandas_output_parser\": pandas_output_parser,\n",
    "        \"response_synthesis_prompt\": response_synthesis_prompt,\n",
    "        \"llm2\": llm,\n",
    "    },\n",
    "    verbose=True,\n",
    ")\n",
    "qp.add_chain([\"input\", \"pandas_prompt\", \"llm1\", \"pandas_output_parser\"])\n",
    "qp.add_links(\n",
    "    [\n",
    "        Link(\"input\", \"response_synthesis_prompt\", dest_key=\"query_str\"),\n",
    "        Link(\n",
    "            \"llm1\", \"response_synthesis_prompt\", dest_key=\"pandas_instructions\"\n",
    "        ),\n",
    "        Link(\n",
    "            \"pandas_output_parser\",\n",
    "            \"response_synthesis_prompt\",\n",
    "            dest_key=\"pandas_output\",\n",
    "        ),\n",
    "    ]\n",
    ")\n",
    "# add link from response synthesis prompt to llm2\n",
    "qp.add_link(\"response_synthesis_prompt\", \"llm2\")"
   ]
  },
  {
   "cell_type": "code",
   "execution_count": null,
   "id": "96cd9d8c09ed2337",
   "metadata": {
    "ExecuteTime": {
     "end_time": "2024-05-27T09:51:31.949140Z",
     "start_time": "2024-05-27T09:51:31.883579Z"
    },
    "collapsed": false
   },
   "outputs": [],
   "source": [
    "## create graph\n",
    "from pyvis.network import Network\n",
    "\n",
    "net = Network(notebook=True, cdn_resources=\"in_line\", directed=True)\n",
    "net.from_nx(qp.dag)\n",
    "net.show(\"rag_dag.html\")\n",
    "\n",
    "## another option using `pygraphviz`\n",
    "# from networkx.drawing.nx_agraph import to_agraph\n",
    "# from IPython.display import Image\n",
    "# agraph = to_agraph(p.dag)\n",
    "# agraph.layout(prog=\"dot\")\n",
    "# agraph.draw('rag_dag.png')\n",
    "# display(Image('rag_dag.png'))"
   ]
  },
  {
   "cell_type": "code",
   "execution_count": 8,
   "id": "beea1bafb6640fdb",
   "metadata": {
    "ExecuteTime": {
     "end_time": "2024-05-27T09:34:31.085563Z",
     "start_time": "2024-05-27T09:34:09.105458Z"
    },
    "collapsed": false
   },
   "outputs": [
    {
     "name": "stdout",
     "output_type": "stream",
     "text": [
      "\u001B[1;3;38;2;155;135;227m> Running module input with input: \n",
      "query_str: What is the correlation between survival and age?\n",
      "\n",
      "\u001B[0m\u001B[1;3;38;2;155;135;227m> Running module pandas_prompt with input: \n",
      "query_str: What is the correlation between survival and age?\n",
      "\n",
      "\u001B[0m\u001B[1;3;38;2;155;135;227m> Running module llm1 with input: \n",
      "messages: You are working with a pandas dataframe in Python.\n",
      "The name of the dataframe is `df`.\n",
      "This is the result of `print(df.head())`:\n",
      "   survived  pclass                                               name  ...\n",
      "\n",
      "\u001B[0m\u001B[1;3;38;2;155;135;227m> Running module pandas_output_parser with input: \n",
      "input: assistant: df.corr('survived', 'age')\n",
      "\n",
      "\u001B[0m\u001B[1;3;38;2;155;135;227m> Running module response_synthesis_prompt with input: \n",
      "query_str: What is the correlation between survival and age?\n",
      "pandas_instructions: assistant: df.corr('survived', 'age')\n",
      "pandas_output: There was an error running the output as Python code. Error message: could not convert string to float: 'Braund, Mr. Owen Harris'\n",
      "\n",
      "\u001B[0m\u001B[1;3;38;2;155;135;227m> Running module llm2 with input: \n",
      "messages: Given an input question, synthesize a response from the query results.\n",
      "Query: What is the correlation between survival and age?\n",
      "\n",
      "Pandas Instructions (optional):\n",
      "df.corr('survived', 'age')\n",
      "\n",
      "Pandas Outp...\n",
      "\n",
      "\u001B[0m"
     ]
    },
    {
     "name": "stderr",
     "output_type": "stream",
     "text": [
      "Traceback (most recent call last):\n",
      "  File \"/Users/lzchen/Library/Caches/pypoetry/virtualenvs/llamaindex-sample-BTxt78Z_-py3.10/lib/python3.10/site-packages/llama_index/experimental/query_engine/pandas/output_parser.py\", line 54, in default_output_processor\n",
      "    output_str = str(safe_eval(module_end_str, global_vars, local_vars))\n",
      "  File \"/Users/lzchen/Library/Caches/pypoetry/virtualenvs/llamaindex-sample-BTxt78Z_-py3.10/lib/python3.10/site-packages/llama_index/experimental/exec_utils.py\", line 159, in safe_eval\n",
      "    return eval(__source, _get_restricted_globals(__globals), __locals)\n",
      "  File \"<string>\", line 1, in <module>\n",
      "  File \"/Users/lzchen/Library/Caches/pypoetry/virtualenvs/llamaindex-sample-BTxt78Z_-py3.10/lib/python3.10/site-packages/pandas/core/frame.py\", line 11049, in corr\n",
      "    mat = data.to_numpy(dtype=float, na_value=np.nan, copy=False)\n",
      "  File \"/Users/lzchen/Library/Caches/pypoetry/virtualenvs/llamaindex-sample-BTxt78Z_-py3.10/lib/python3.10/site-packages/pandas/core/frame.py\", line 1993, in to_numpy\n",
      "    result = self._mgr.as_array(dtype=dtype, copy=copy, na_value=na_value)\n",
      "  File \"/Users/lzchen/Library/Caches/pypoetry/virtualenvs/llamaindex-sample-BTxt78Z_-py3.10/lib/python3.10/site-packages/pandas/core/internals/managers.py\", line 1694, in as_array\n",
      "    arr = self._interleave(dtype=dtype, na_value=na_value)\n",
      "  File \"/Users/lzchen/Library/Caches/pypoetry/virtualenvs/llamaindex-sample-BTxt78Z_-py3.10/lib/python3.10/site-packages/pandas/core/internals/managers.py\", line 1753, in _interleave\n",
      "    result[rl.indexer] = arr\n",
      "ValueError: could not convert string to float: 'Braund, Mr. Owen Harris'\n"
     ]
    }
   ],
   "source": [
    "response = qp.run(\n",
    "    query_str=\"What is the correlation between survival and age?\",\n",
    ")"
   ]
  },
  {
   "cell_type": "code",
   "execution_count": 9,
   "id": "cc81ce4fef8d3653",
   "metadata": {
    "ExecuteTime": {
     "end_time": "2024-05-27T09:44:08.340264Z",
     "start_time": "2024-05-27T09:43:46.915220Z"
    },
    "collapsed": false
   },
   "outputs": [
    {
     "name": "stdout",
     "output_type": "stream",
     "text": [
      "\u001B[1;3;38;2;155;135;227m> Running module input with input: \n",
      "query_str: What is the correlation between survival and age?\n",
      "\n",
      "\u001B[0m\u001B[1;3;38;2;155;135;227m> Running module pandas_prompt with input: \n",
      "query_str: What is the correlation between survival and age?\n",
      "\n",
      "\u001B[0m\u001B[1;3;38;2;155;135;227m> Running module llm1 with input: \n",
      "messages: You are working with a pandas dataframe in Python.\n",
      "The name of the dataframe is `df`.\n",
      "This is the result of `print(df.head())`:\n",
      "   survived  pclass                                               name  ...\n",
      "\n",
      "\u001B[0m\u001B[1;3;38;2;155;135;227m> Running module pandas_output_parser with input: \n",
      "input: assistant: df.corr('spearman')['survived']['age']\n",
      "\n",
      "\u001B[0m\u001B[1;3;38;2;155;135;227m> Running module response_synthesis_prompt with input: \n",
      "query_str: What is the correlation between survival and age?\n",
      "pandas_instructions: assistant: df.corr('spearman')['survived']['age']\n",
      "pandas_output: There was an error running the output as Python code. Error message: could not convert string to float: 'Braund, Mr. Owen Harris'\n",
      "\n",
      "\u001B[0m\u001B[1;3;38;2;155;135;227m> Running module llm2 with input: \n",
      "messages: Given an input question, synthesize a response from the query results.\n",
      "Query: What is the correlation between survival and age?\n",
      "\n",
      "Pandas Instructions (optional):\n",
      "df.corr('spearman')['survived']['age']\n",
      "...\n",
      "\n",
      "\u001B[0m"
     ]
    },
    {
     "name": "stderr",
     "output_type": "stream",
     "text": [
      "Traceback (most recent call last):\n",
      "  File \"/Users/lzchen/Library/Caches/pypoetry/virtualenvs/llamaindex-sample-BTxt78Z_-py3.10/lib/python3.10/site-packages/llama_index/experimental/query_engine/pandas/output_parser.py\", line 54, in default_output_processor\n",
      "    output_str = str(safe_eval(module_end_str, global_vars, local_vars))\n",
      "  File \"/Users/lzchen/Library/Caches/pypoetry/virtualenvs/llamaindex-sample-BTxt78Z_-py3.10/lib/python3.10/site-packages/llama_index/experimental/exec_utils.py\", line 159, in safe_eval\n",
      "    return eval(__source, _get_restricted_globals(__globals), __locals)\n",
      "  File \"<string>\", line 1, in <module>\n",
      "  File \"/Users/lzchen/Library/Caches/pypoetry/virtualenvs/llamaindex-sample-BTxt78Z_-py3.10/lib/python3.10/site-packages/pandas/core/frame.py\", line 11049, in corr\n",
      "    mat = data.to_numpy(dtype=float, na_value=np.nan, copy=False)\n",
      "  File \"/Users/lzchen/Library/Caches/pypoetry/virtualenvs/llamaindex-sample-BTxt78Z_-py3.10/lib/python3.10/site-packages/pandas/core/frame.py\", line 1993, in to_numpy\n",
      "    result = self._mgr.as_array(dtype=dtype, copy=copy, na_value=na_value)\n",
      "  File \"/Users/lzchen/Library/Caches/pypoetry/virtualenvs/llamaindex-sample-BTxt78Z_-py3.10/lib/python3.10/site-packages/pandas/core/internals/managers.py\", line 1694, in as_array\n",
      "    arr = self._interleave(dtype=dtype, na_value=na_value)\n",
      "  File \"/Users/lzchen/Library/Caches/pypoetry/virtualenvs/llamaindex-sample-BTxt78Z_-py3.10/lib/python3.10/site-packages/pandas/core/internals/managers.py\", line 1753, in _interleave\n",
      "    result[rl.indexer] = arr\n",
      "ValueError: could not convert string to float: 'Braund, Mr. Owen Harris'\n"
     ]
    }
   ],
   "source": [
    "output, intermediates = qp.run_with_intermediates( query_str=\"What is the correlation between survival and age?\",)\n"
   ]
  },
  {
   "cell_type": "code",
   "execution_count": null,
   "id": "89e694901d8cb73d",
   "metadata": {
    "collapsed": false
   },
   "outputs": [],
   "source": []
  }
 ],
 "metadata": {
  "kernelspec": {
   "display_name": "llamaindex-sample",
   "language": "python",
   "name": "llamaindex-sample"
  },
  "language_info": {
   "codemirror_mode": {
    "name": "ipython",
    "version": 3
   },
   "file_extension": ".py",
   "mimetype": "text/x-python",
   "name": "python",
   "nbconvert_exporter": "python",
   "pygments_lexer": "ipython3",
   "version": "3.10.4"
  }
 },
 "nbformat": 4,
 "nbformat_minor": 5
}
